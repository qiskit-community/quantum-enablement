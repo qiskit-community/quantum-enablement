{
 "cells": [
  {
   "cell_type": "markdown",
   "id": "53d735ed-11bd-447a-81e6-47abd8c50b8c",
   "metadata": {},
   "source": [
    "(1) Client Interaction, Prioritize more, involve in their projects is #1 priority\n",
    "(2) SQD/Serverless (Mid-may) one week for technical, two weeks from today for explaining \n",
    "(3) QuESO\n",
    "(4) QAE Dashboard"
   ]
  },
  {
   "cell_type": "markdown",
   "id": "3ba943ee-69a2-4c02-b937-598e5c6519d3",
   "metadata": {},
   "source": [
    "# SQD Example"
   ]
  },
  {
   "cell_type": "code",
   "execution_count": 43,
   "id": "2a449ca9-a2ed-44eb-9392-e06f556eccef",
   "metadata": {},
   "outputs": [],
   "source": [
    "# Get Ground Truth"
   ]
  },
  {
   "cell_type": "code",
   "execution_count": 1,
   "id": "78328bea-308b-4d8b-864d-a0fd15c978f3",
   "metadata": {},
   "outputs": [
    {
     "name": "stdout",
     "output_type": "stream",
     "text": [
      "converged SCF energy = -108.835236570774\n",
      "CASCI E = -109.046671778080  E(CI) = -32.8155692383188  S^2 = 0.0000000\n"
     ]
    }
   ],
   "source": [
    "import pyscf\n",
    "import pyscf.cc\n",
    "import pyscf.mcscf\n",
    "\n",
    "# Specify molecule properties\n",
    "open_shell = False\n",
    "spin_sq = 0\n",
    "\n",
    "# Build N2 molecule\n",
    "mol = pyscf.gto.Mole()\n",
    "mol.build(\n",
    "    atom=[[\"N\", (0, 0, 0)], [\"N\", (1.0, 0, 0)]],\n",
    "    basis=\"6-31g\",\n",
    "    symmetry=\"Dooh\",\n",
    ")\n",
    "\n",
    "# Define active space\n",
    "n_frozen = 2\n",
    "active_space = range(n_frozen, mol.nao_nr())\n",
    "\n",
    "# Get molecular integrals\n",
    "scf = pyscf.scf.RHF(mol).run()\n",
    "num_orbitals = len(active_space)\n",
    "n_electrons = int(sum(scf.mo_occ[active_space]))\n",
    "num_elec_a = (n_electrons + mol.spin) // 2\n",
    "num_elec_b = (n_electrons - mol.spin) // 2\n",
    "cas = pyscf.mcscf.CASCI(scf, num_orbitals, (num_elec_a, num_elec_b))\n",
    "mo = cas.sort_mo(active_space, base=0)\n",
    "hcore, nuclear_repulsion_energy = cas.get_h1cas(mo)\n",
    "eri = pyscf.ao2mo.restore(1, cas.get_h2cas(mo), num_orbitals)\n",
    "\n",
    "# Compute exact energy \n",
    "exact_energy = cas.run().e_tot "
   ]
  },
  {
   "cell_type": "code",
   "execution_count": 2,
   "id": "8429fa47-07c0-49c7-a154-fb2dc9c58dc5",
   "metadata": {},
   "outputs": [
    {
     "name": "stdout",
     "output_type": "stream",
     "text": [
      "E(CCSD) = -109.0398256929733  E_corr = -0.20458912219883\n"
     ]
    }
   ],
   "source": [
    "# Get CCSD t2 amplitudes for initializing the ansatz\n",
    "ccsd = pyscf.cc.CCSD(\n",
    "    scf, frozen=[i for i in range(mol.nao_nr()) if i not in active_space]\n",
    ").run() \n",
    "t1 = ccsd.t1 \n",
    "t2 = ccsd.t2 \n"
   ]
  },
  {
   "cell_type": "code",
   "execution_count": 3,
   "id": "21fa8dfa-0466-4e4b-9fbc-b168cf0086b6",
   "metadata": {},
   "outputs": [],
   "source": [
    "import ffsim\n",
    "from qiskit import QuantumCircuit, QuantumRegister\n",
    "\n",
    "n_reps = 1\n",
    "alpha_alpha_indices = [(p, p + 1) for p in range(num_orbitals - 1)]\n",
    "alpha_beta_indices = [(p, p) for p in range(0, num_orbitals, 4)]\n",
    "\n",
    "ucj_op = ffsim.UCJOpSpinBalanced.from_t_amplitudes(\n",
    "    t2=t2,\n",
    "    t1=t1,\n",
    "    n_reps=n_reps,\n",
    "    interaction_pairs=(alpha_alpha_indices, alpha_beta_indices),\n",
    ")\n",
    "\n",
    "nelec = (num_elec_a, num_elec_b)\n",
    "\n",
    "# create an empty quantum circuit\n",
    "qubits = QuantumRegister(2 * num_orbitals, name=\"q\")\n",
    "circuit = QuantumCircuit(qubits)\n",
    "\n",
    "# prepare Hartree-Fock state as the reference state and append it to the quantum circuit\n",
    "circuit.append(ffsim.qiskit.PrepareHartreeFockJW(num_orbitals, nelec), qubits)\n",
    "\n",
    "# apply the UCJ operator to the reference state\n",
    "circuit.append(ffsim.qiskit.UCJOpSpinBalancedJW(ucj_op), qubits)\n",
    "circuit.measure_all()\n"
   ]
  },
  {
   "cell_type": "code",
   "execution_count": 4,
   "id": "48998f9d-60a2-4ceb-9b1b-88749284cbd3",
   "metadata": {},
   "outputs": [
    {
     "name": "stderr",
     "output_type": "stream",
     "text": [
      "/var/folders/h5/vk4dp3hj3hl5h63968_bg6c00000gn/T/ipykernel_98990/2713380159.py:3: DeprecationWarning: The \"ibm_quantum\" channel option is deprecated and will be sunset on 1 July. After this date, ibm_cloud will be the only valid channel. For information on migrating to the new IBM Quantum Platform on the \"ibm_cloud\" channel, review the migration guide https://quantum.cloud.ibm.com/docs/migration-guides/classic-iqp-to-cloud-iqp .\n",
      "  service = QiskitRuntimeService()\n"
     ]
    }
   ],
   "source": [
    "from qiskit_ibm_runtime import QiskitRuntimeService\n",
    "\n",
    "service = QiskitRuntimeService()\n",
    "backend = service.backend(\"ibm_sherbrooke\")\n"
   ]
  },
  {
   "cell_type": "code",
   "execution_count": 5,
   "id": "63971fab-92d1-4d0c-b8a8-43c31f09108e",
   "metadata": {},
   "outputs": [
    {
     "name": "stdout",
     "output_type": "stream",
     "text": [
      "Gate counts (w/o pre-init passes): OrderedDict([('rz', 4488), ('sx', 3427), ('ecr', 1366), ('x', 241), ('measure', 32), ('barrier', 1)])\n",
      "Gate counts (w/ pre-init passes): OrderedDict([('rz', 2439), ('sx', 2159), ('ecr', 730), ('x', 71), ('measure', 32), ('barrier', 1)])\n"
     ]
    }
   ],
   "source": [
    "from qiskit.transpiler.preset_passmanagers import generate_preset_pass_manager\n",
    "\n",
    "spin_a_layout = [0, 14, 18, 19, 20, 33, 39, 40, 41, 53, 60, 61, 62, 72, 81, 82]\n",
    "spin_b_layout = [2, 3, 4, 15, 22, 23, 24, 34, 43, 44, 45, 54, 64, 65, 66, 73]\n",
    "initial_layout = spin_a_layout + spin_b_layout\n",
    "\n",
    "pass_manager = generate_preset_pass_manager(\n",
    "    optimization_level=3, backend=backend, initial_layout=initial_layout\n",
    ")\n",
    "\n",
    "# without PRE_INIT passes\n",
    "isa_circuit = pass_manager.run(circuit)\n",
    "print(f\"Gate counts (w/o pre-init passes): {isa_circuit.count_ops()}\")\n",
    "\n",
    "# with PRE_INIT passes\n",
    "# We will use the circuit generated by this pass manager for hardware execution\n",
    "pass_manager.pre_init = ffsim.qiskit.PRE_INIT\n",
    "isa_circuit = pass_manager.run(circuit)\n",
    "print(f\"Gate counts (w/ pre-init passes): {isa_circuit.count_ops()}\")\n"
   ]
  },
  {
   "cell_type": "code",
   "execution_count": 6,
   "id": "0e6ebf8a-c699-4943-ba17-351e2fa4be43",
   "metadata": {},
   "outputs": [],
   "source": [
    "from qiskit_ibm_runtime import SamplerV2 as Sampler\n",
    "\n",
    "sampler = Sampler(mode=backend)\n",
    "job = sampler.run([isa_circuit], shots=10000)\n"
   ]
  },
  {
   "cell_type": "code",
   "execution_count": 8,
   "id": "f5d2ff27-f0dd-40e2-8ecb-d7e98dedd78b",
   "metadata": {},
   "outputs": [],
   "source": [
    "primitive_result = job.result()\n",
    "pub_result = primitive_result[0]\n",
    "counts = pub_result.data.meas.get_counts()\n"
   ]
  },
  {
   "cell_type": "code",
   "execution_count": 9,
   "id": "2cc62c8c-cf98-4be7-8799-820b11de3afb",
   "metadata": {},
   "outputs": [],
   "source": [
    "from qiskit_addon_sqd.counts import counts_to_arrays\n",
    "\n",
    "# Convert counts into bitstring and probability arrays\n",
    "bitstring_matrix_full, probs_arr_full = counts_to_arrays(counts)\n"
   ]
  },
  {
   "cell_type": "code",
   "execution_count": 164,
   "id": "8c6f0d32-259b-40d2-a098-771b6e7a5ec7",
   "metadata": {},
   "outputs": [
    {
     "data": {
      "text/plain": [
       "QiskitFunction(sqd_worker)"
      ]
     },
     "execution_count": 164,
     "metadata": {},
     "output_type": "execute_result"
    }
   ],
   "source": [
    "from qiskit_ibm_catalog import QiskitFunction, QiskitServerless\n",
    "\n",
    "client = QiskitServerless()\n",
    "\n",
    "client.upload(\n",
    "    QiskitFunction(\n",
    "        title=\"sqd_worker\",\n",
    "        entrypoint=\"sqd_worker.py\", # lives in ./source_files\n",
    "        working_dir=\"source_files\"))\n"
   ]
  },
  {
   "cell_type": "code",
   "execution_count": 165,
   "id": "7e033054-a30c-485e-96ad-929643d0308c",
   "metadata": {},
   "outputs": [],
   "source": [
    "from json.encoder import JSONEncoder\n",
    "from json.decoder import JSONDecoder\n",
    "import numpy as np\n",
    "import time\n",
    "\n",
    "# SQD options\n",
    "iterations = 5\n",
    " \n",
    "# Eigenstate solver options\n",
    "num_batches = 10\n",
    "samples_per_batch = 300\n",
    "max_davidson_cycles = 200\n",
    "\n",
    "worker = client.load(\"sqd_worker\") \n",
    "\n",
    "package = [bitstring_matrix_full.tolist(),\n",
    "             probs_arr_full.tolist(),\n",
    "             hcore.tolist(),\n",
    "             eri.tolist(),\n",
    "             open_shell,\n",
    "             spin_sq,\n",
    "             max_davidson_cycles,\n",
    "             nuclear_repulsion_energy,\n",
    "             num_elec_a,\n",
    "             num_elec_b]\n",
    "\n",
    "package_e = JSONEncoder().encode(package)\n",
    "\n",
    "job = worker.run(data = package_e,\n",
    "                 iterations=iterations, \n",
    "                 n_batches=n_batches, \n",
    "                 samples_per_batch=samples_per_batch, \n",
    "                 max_davidson_cycles=max_davidson_cycles)\n",
    "\n",
    "o_data = JSONDecoder().decode(job.result()[\"outputs\"])\n",
    "(e_hist, s_hist, occupancy_hist) = o_data \n"
   ]
  },
  {
   "cell_type": "code",
   "execution_count": 171,
   "id": "8170ac3b-7b3f-43a5-abde-3925a22a998d",
   "metadata": {},
   "outputs": [
    {
     "data": {
      "image/png": "[encoded data removed]",
      "text/plain": [
       "<Figure size 1200x600 with 2 Axes>"
      ]
     },
     "metadata": {},
     "output_type": "display_data"
    }
   ],
   "source": [
    "import matplotlib.pyplot as plt\n",
    "\n",
    "# Data for energies plot\n",
    "x1 = range(iterations)\n",
    "e_diff = [abs(np.min(energies) - exact_energy) for energies in e_hist]\n",
    "yt1 = [1.0, 1e-1, 1e-2, 1e-3, 1e-4]\n",
    "\n",
    "# Chemical accuracy (+/- 1 milli-Hartree)\n",
    "chem_accuracy = 0.001\n",
    "\n",
    "# Data for avg spatial orbital occupancy\n",
    "y2 = np.mean([occupancy_hist[-1][0], occupancy_hist[-1][1]], axis=0)\n",
    "x2 = range(len(y2))\n",
    "\n",
    "fig, axs = plt.subplots(1, 2, figsize=(12, 6))\n",
    "\n",
    "# Plot energies\n",
    "axs[0].plot(x1, e_diff, label=\"energy error\", marker=\"o\")\n",
    "axs[0].set_xticks(x1)\n",
    "axs[0].set_xticklabels(x1)\n",
    "axs[0].set_yticks(yt1)\n",
    "axs[0].set_yticklabels(yt1)\n",
    "axs[0].set_yscale(\"log\")\n",
    "axs[0].set_ylim(1e-4)\n",
    "axs[0].axhline(y=chem_accuracy, color=\"#BF5700\", linestyle=\"--\", label=\"chemical accuracy\")\n",
    "axs[0].set_title(\"Approximated Ground State Energy Error vs SQD Iterations\")\n",
    "axs[0].set_xlabel(\"Iteration Index\", fontdict={\"fontsize\": 12})\n",
    "axs[0].set_ylabel(\"Energy Error (Ha)\", fontdict={\"fontsize\": 12})\n",
    "axs[0].legend()\n",
    "\n",
    "# Plot orbital occupancy\n",
    "axs[1].bar(x2, y2, width=0.8)\n",
    "axs[1].set_xticks(x2)\n",
    "axs[1].set_xticklabels(x2)\n",
    "axs[1].set_title(\"Avg Occupancy per Spatial Orbital\")\n",
    "axs[1].set_xlabel(\"Orbital Index\", fontdict={\"fontsize\": 12})\n",
    "axs[1].set_ylabel(\"Avg Occupancy\", fontdict={\"fontsize\": 12})\n",
    "\n",
    "plt.tight_layout()\n",
    "plt.show()\n"
   ]
  },
  {
   "cell_type": "code",
   "execution_count": null,
   "id": "60e2a152-83bc-40f9-ac4d-5daeebd1d545",
   "metadata": {},
   "outputs": [],
   "source": []
  },
  {
   "cell_type": "code",
   "execution_count": null,
   "id": "c5850a7b-7f8c-4589-82ea-68e36ddfcbe7",
   "metadata": {},
   "outputs": [],
   "source": []
  },
  {
   "cell_type": "code",
   "execution_count": null,
   "id": "883aab8f-534c-42d0-9bdc-57c200e57e0d",
   "metadata": {},
   "outputs": [],
   "source": []
  }
 ],
 "metadata": {
  "kernelspec": {
   "display_name": "Python (qiskit‑serverless)",
   "language": "python",
   "name": "qiskit_serverless"
  },
  "language_info": {
   "codemirror_mode": {
    "name": "ipython",
    "version": 3
   },
   "file_extension": ".py",
   "mimetype": "text/x-python",
   "name": "python",
   "nbconvert_exporter": "python",
   "pygments_lexer": "ipython3",
   "version": "3.11.0"
  }
 },
 "nbformat": 4,
 "nbformat_minor": 5
}
